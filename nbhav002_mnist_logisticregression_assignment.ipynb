{
  "cells": [
    {
      "cell_type": "markdown",
      "id": "9a3cf8d6",
      "metadata": {
        "id": "9a3cf8d6"
      },
      "source": [
        "### Use logistic regression for MNIST\n",
        "\n",
        "Logistic regression can be implemented by a FC layer, with the cross entropy loss. To use it for MNIST, we can \"flatten\" the input data into a 1D array, and use a trainable FC layer\n",
        "\n",
        "**important**: before turning in your final notebook for grading, make sure to make a \"clean\" run. Choose \"Restart & Run All\" from the \"Kernel\" pulldown menu. The indices of runs **must** be sequential and start with 1\n",
        "\n",
        "**important**: rename the notebook with your UID as the prefix, such as jdoe001_xxxxxxx.ipynb\n"
      ]
    },
    {
      "cell_type": "code",
      "execution_count": 1,
      "id": "96b8e75e",
      "metadata": {
        "id": "96b8e75e"
      },
      "outputs": [],
      "source": [
        "import torch\n",
        "import torchvision\n",
        "import torch.nn as nn\n",
        "import matplotlib.pyplot as plt\n",
        "import torchvision.transforms as transforms\n",
        "import torch.utils as utils\n",
        "import random"
      ]
    },
    {
      "cell_type": "code",
      "source": [
        "# Define the transform to normalize the data\n",
        "transform = transforms.Compose([\n",
        "    transforms.ToTensor(),\n",
        "    transforms.Normalize((0.5,), (0.5,))\n",
        "])"
      ],
      "metadata": {
        "id": "F12sS4NFQWr6"
      },
      "id": "F12sS4NFQWr6",
      "execution_count": 2,
      "outputs": []
    },
    {
      "cell_type": "code",
      "execution_count": 3,
      "id": "54703df4",
      "metadata": {
        "colab": {
          "base_uri": "https://localhost:8080/"
        },
        "id": "54703df4",
        "outputId": "a5505e8d-2fa6-451d-bc28-80e302070a42"
      },
      "outputs": [
        {
          "output_type": "stream",
          "name": "stdout",
          "text": [
            "Number of training samples: 60000\n",
            "Number of testing samples: 10000\n"
          ]
        }
      ],
      "source": [
        "## To be implemented\n",
        "## load MNIST and print stats\n",
        "\n",
        "trainset = torchvision.datasets.MNIST(root='./data', train=True, download=True, transform=transform)\n",
        "testset = torchvision.datasets.MNIST(root='./data', train=False, download=True, transform=transform)\n",
        "\n",
        "# Print the stats\n",
        "print(f\"Number of training samples: {len(trainset)}\")\n",
        "print(f\"Number of testing samples: {len(testset)}\")"
      ]
    },
    {
      "cell_type": "code",
      "execution_count": 4,
      "id": "4b4c7121",
      "metadata": {
        "colab": {
          "base_uri": "https://localhost:8080/",
          "height": 661
        },
        "id": "4b4c7121",
        "outputId": "050889a1-8d76-4436-ba94-0684138118d2"
      },
      "outputs": [
        {
          "output_type": "display_data",
          "data": {
            "text/plain": [
              "<Figure size 800x800 with 2 Axes>"
            ],
            "image/png": "[encoded data removed]"
          },
          "metadata": {}
        },
        {
          "output_type": "display_data",
          "data": {
            "text/plain": [
              "<Figure size 800x800 with 2 Axes>"
            ],
            "image/png": "[encoded data removed]"
          },
          "metadata": {}
        }
      ],
      "source": [
        "## To be implemented\n",
        "## visualize as 2x2 panel, randomly choose 2 from training and 2 from test sets\n",
        "def visualize_selected_images(dataset, selected_labels):\n",
        "    plt.figure(figsize=(8, 8))\n",
        "    for i, label in enumerate(selected_labels, 1):\n",
        "        # Filter images by label\n",
        "        filtered_indices = [idx for idx, (_, target) in enumerate(dataset) if target == label]\n",
        "        # Randomly select an image\n",
        "        selected_index = random.choice(filtered_indices)\n",
        "        image, label = dataset[selected_index]\n",
        "        plt.subplot(2, 2, i)\n",
        "        plt.imshow(image.squeeze(), cmap='gray')\n",
        "        plt.title(f\"Label: {label}\")\n",
        "        plt.axis('off')\n",
        "\n",
        "# Selected labels to visualize\n",
        "selected_labels = [4, 5]\n",
        "\n",
        "# Visualize selected labels from training set\n",
        "visualize_selected_images(trainset, selected_labels)\n",
        "\n",
        "# Visualize selected labels from test set\n",
        "visualize_selected_images(testset, selected_labels)"
      ]
    },
    {
      "cell_type": "markdown",
      "id": "56911745",
      "metadata": {
        "id": "56911745"
      },
      "source": [
        "**Important**: make sure to use your best hyper-parameters, I have achieved the test accuracy of >88% by tuning them, using CPU only"
      ]
    },
    {
      "cell_type": "code",
      "execution_count": 5,
      "id": "4e564bbf",
      "metadata": {
        "id": "4e564bbf"
      },
      "outputs": [],
      "source": [
        "## put your best hyperparameters\n",
        "## hyperparameters\n",
        "input_size = 28*28  #Size of image\n",
        "num_classes = 10  #the image number are in range 0-10\n",
        "num_epochs = 5 #one cycle through the full train data\n",
        "batch_size = 100 #sample size consider before updating the model’s weights\n",
        "learning_rate = 0.01  #step size to update parameter"
      ]
    },
    {
      "cell_type": "code",
      "execution_count": 6,
      "id": "2c032988",
      "metadata": {
        "id": "2c032988"
      },
      "outputs": [],
      "source": [
        "## To be implemented\n",
        "## create dataloaders\n",
        "train_loader = utils.data.DataLoader(dataset=trainset, batch_size=batch_size, shuffle=True)\n",
        "test_loader = utils.data.DataLoader(dataset=testset, batch_size=batch_size, shuffle=False)"
      ]
    },
    {
      "cell_type": "code",
      "execution_count": 7,
      "id": "331a03c6",
      "metadata": {
        "id": "331a03c6"
      },
      "outputs": [],
      "source": [
        "## To be implemented\n",
        "## build the model\n",
        "class LogisticRegression(nn.Module):\n",
        "  def __init__(self, input_size, num_classes):\n",
        "    super(LogisticRegression, self).__init__()\n",
        "    # Define the fully connected layer\n",
        "    self.linear = nn.Linear(input_size, num_classes)\n",
        "\n",
        "  def forward(self, x):\n",
        "    # Flatten the image tensors\n",
        "    x = x.view(-1, input_size)\n",
        "    # Forward pass through the linear layer\n",
        "    out = self.linear(x)\n",
        "    return out"
      ]
    },
    {
      "cell_type": "code",
      "execution_count": 8,
      "id": "341a19ae",
      "metadata": {
        "id": "341a19ae"
      },
      "outputs": [],
      "source": [
        "## set up loss and optimizer\n",
        "model = LogisticRegression(input_size,num_classes)\n",
        "loss = nn.CrossEntropyLoss()\n",
        "## you are free to use other optimizers\n",
        "optimizer = torch.optim.SGD(model.parameters(),lr=learning_rate)"
      ]
    },
    {
      "cell_type": "code",
      "execution_count": 9,
      "id": "a15a6b47",
      "metadata": {
        "colab": {
          "base_uri": "https://localhost:8080/"
        },
        "id": "a15a6b47",
        "outputId": "6165e630-8d2c-400e-f006-531f6c6852e9"
      },
      "outputs": [
        {
          "output_type": "stream",
          "name": "stdout",
          "text": [
            "Iternation: 200, training loss = 0.613\n",
            "Iternation: 400, training loss = 0.544\n",
            "Iternation: 600, training loss = 0.492\n",
            "==> Epoch: 0, test accuracy = 88.660\n",
            "Iternation: 200, training loss = 0.372\n",
            "Iternation: 400, training loss = 0.381\n",
            "Iternation: 600, training loss = 0.311\n",
            "==> Epoch: 1, test accuracy = 89.940\n",
            "Iternation: 200, training loss = 0.436\n",
            "Iternation: 400, training loss = 0.428\n",
            "Iternation: 600, training loss = 0.286\n",
            "==> Epoch: 2, test accuracy = 90.450\n",
            "Iternation: 200, training loss = 0.308\n",
            "Iternation: 400, training loss = 0.252\n",
            "Iternation: 600, training loss = 0.356\n",
            "==> Epoch: 3, test accuracy = 90.730\n",
            "Iternation: 200, training loss = 0.237\n",
            "Iternation: 400, training loss = 0.268\n",
            "Iternation: 600, training loss = 0.438\n",
            "==> Epoch: 4, test accuracy = 90.950\n",
            "Final Accuracy = 90.95%\n"
          ]
        }
      ],
      "source": [
        "## To be implemented\n",
        "## training test testing\n",
        "for epoch in range(num_epochs):\n",
        "    ## your code here\n",
        "    model.train()  # Set the model to training mode\n",
        "    for i, (images, labels) in enumerate(train_loader):\n",
        "        # Flatten MNIST images to a 784 vector for each image\n",
        "        images = images.view(-1, 28*28)\n",
        "\n",
        "        # Forward pass\n",
        "        outputs = model(images)\n",
        "        compute_loss = loss(outputs, labels)\n",
        "\n",
        "        # Backward and optimize\n",
        "        optimizer.zero_grad()\n",
        "        compute_loss.backward()\n",
        "        optimizer.step()\n",
        "\n",
        "        ## printing training losses\n",
        "        if (i+1) % 200 == 0:\n",
        "            print('Iternation: {0}, training loss = {1:.3f}'.format(i+1,compute_loss.item()))\n",
        "\n",
        "\n",
        "    ## Run testing after each epoch\n",
        "    model.eval()\n",
        "    with torch.no_grad():\n",
        "        total = 0\n",
        "        accurate = 0\n",
        "\n",
        "        ## your code here\n",
        "        for images, labels in test_loader:\n",
        "            images = images.view(-1, 28*28)\n",
        "            outputs = model(images)\n",
        "            _, predicted = torch.max(outputs.data, 1)\n",
        "            total += labels.size(0)\n",
        "            accurate += (predicted == labels).sum().item()\n",
        "\n",
        "\n",
        "        accuracy_score = 100*accurate/total\n",
        "        print('==> Epoch: {0}, test accuracy = {1:.3f}'.format(epoch, accuracy_score))\n",
        "\n",
        "print('Final Accuracy = {0:.2f}%'.format(accuracy_score))"
      ]
    },
    {
      "cell_type": "code",
      "execution_count": 10,
      "id": "3142a565",
      "metadata": {
        "colab": {
          "base_uri": "https://localhost:8080/"
        },
        "id": "3142a565",
        "outputId": "25eed170-dfc5-4328-e6e0-9eb28c94ab59"
      },
      "outputs": [
        {
          "output_type": "stream",
          "name": "stdout",
          "text": [
            "LogisticRegression(\n",
            "  (linear): Linear(in_features=784, out_features=10, bias=True)\n",
            ")\n"
          ]
        }
      ],
      "source": [
        "## model stats\n",
        "print(model)"
      ]
    },
    {
      "cell_type": "code",
      "execution_count": 11,
      "id": "856ccda6",
      "metadata": {
        "colab": {
          "base_uri": "https://localhost:8080/"
        },
        "id": "856ccda6",
        "outputId": "7e358b89-20fc-4eca-aa47-1eb7dbab2b98"
      },
      "outputs": [
        {
          "output_type": "stream",
          "name": "stdout",
          "text": [
            "----------------------------------------------------------------\n",
            "        Layer (type)               Output Shape         Param #\n",
            "================================================================\n",
            "            Linear-1                   [-1, 10]           7,850\n",
            "================================================================\n",
            "Total params: 7,850\n",
            "Trainable params: 7,850\n",
            "Non-trainable params: 0\n",
            "----------------------------------------------------------------\n",
            "Input size (MB): 0.00\n",
            "Forward/backward pass size (MB): 0.00\n",
            "Params size (MB): 0.03\n",
            "Estimated Total Size (MB): 0.03\n",
            "----------------------------------------------------------------\n"
          ]
        }
      ],
      "source": [
        "## optional, print model statistics\n",
        "from torchsummary import summary\n",
        "summary(model, input_size=(1, 28*28))"
      ]
    }
  ],
  "metadata": {
    "kernelspec": {
      "display_name": "Python 3",
      "name": "python3"
    },
    "language_info": {
      "codemirror_mode": {
        "name": "ipython",
        "version": 3
      },
      "file_extension": ".py",
      "mimetype": "text/x-python",
      "name": "python",
      "nbconvert_exporter": "python",
      "pygments_lexer": "ipython3",
      "version": "3.11.3"
    },
    "colab": {
      "provenance": []
    }
  },
  "nbformat": 4,
  "nbformat_minor": 5
}